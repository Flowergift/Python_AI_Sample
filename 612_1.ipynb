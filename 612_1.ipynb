{
  "nbformat": 4,
  "nbformat_minor": 0,
  "metadata": {
    "colab": {
      "provenance": [],
      "authorship_tag": "ABX9TyP83AjK7TlVwxUyty58Rsp3",
      "include_colab_link": true
    },
    "kernelspec": {
      "name": "python3",
      "display_name": "Python 3"
    },
    "language_info": {
      "name": "python"
    }
  },
  "cells": [
    {
      "cell_type": "markdown",
      "metadata": {
        "id": "view-in-github",
        "colab_type": "text"
      },
      "source": [
        "<a href=\"https://colab.research.google.com/github/Flowergift/Python_AI_Sample/blob/main/621_1.ipynb\" target=\"_parent\"><img src=\"https://colab.research.google.com/assets/colab-badge.svg\" alt=\"Open In Colab\"/></a>"
      ]
    },
    {
      "cell_type": "code",
      "execution_count": 13,
      "metadata": {
        "colab": {
          "base_uri": "https://localhost:8080/"
        },
        "id": "GKhAcwV3dku5",
        "outputId": "43a991be-90b2-4874-db5e-3c5b220e1188"
      },
      "outputs": [
        {
          "output_type": "stream",
          "name": "stdout",
          "text": [
            "IP=\n",
            " [[ 0.000  0.000  0.000  0.000  0.000  0.000]\n",
            " [ 0.000  0.417  0.720  0.000  0.302  0.000]\n",
            " [ 0.000  0.147  0.092  0.186  0.346  0.000]\n",
            " [ 0.000  0.397  0.539  0.419  0.685  0.000]\n",
            " [ 0.000  0.204  0.878  0.027  0.670  0.000]\n",
            " [ 0.000  0.000  0.000  0.000  0.000  0.000]]\n"
          ]
        }
      ],
      "source": [
        "import numpy as np\n",
        "\n",
        "np.set_printoptions(formatter={'float_kind':lambda x: \"{0:6.3f}\".format(x)})\n",
        "\n",
        "IMG_SIZE = 4\n",
        "HALF_SIZE = int(IMG_SIZE/2)\n",
        "\n",
        "I_DEPTH = 1\n",
        "C_DEPTH = 2\n",
        "K_SIZE = 3\n",
        "P_SIZE = 2\n",
        "NUM_OUT = 3\n",
        "\n",
        "np.random.seed(1)\n",
        "\n",
        "I = np.random.rand(1,IMG_SIZE, IMG_SIZE, I_DEPTH)\n",
        "WC = np.random.rand(K_SIZE, K_SIZE, I_DEPTH, C_DEPTH)\n",
        "\"\"\"합성곱에서 사용할 필터를 가르키는 변수.\n",
        "   CNN에서 필터는 학습의 대상이 되는 가중치\"\"\"\n",
        "BC = np.random.rand(C_DEPTH,)\n",
        "\"\"\"편향을 가리키는 변수. 출력층의 깊이와 같음.\"\"\"\n",
        "WO = np.random.rand(HALF_SIZE*HALF_SIZE*C_DEPTH, NUM_OUT)\n",
        "\"\"\"완전 연결층에서 입력 층과 출력 층 사이에 사용할 가중치\"\"\"\n",
        "BO = np.random.rand(1, NUM_OUT)\n",
        "\"\"\"완전 연결층에서 입력 층과 출력 층 사이에 사용할 편향\"\"\"\n",
        "T = np.zeros((1,NUM_OUT))\n",
        "\"\"\"목표값\"\"\"\n",
        "C = np.zeros((IMG_SIZE, IMG_SIZE, C_DEPTH))\n",
        "P = np.zeros((HALF_SIZE, HALF_SIZE, C_DEPTH))\n",
        "\n",
        "IP = np.pad(I, ((0,0),(1,1),(1,1),(0,0)))\n",
        "\n",
        "print('IP=\\n', IP[0,:,:,0])\n",
        "\n"
      ]
    }
  ]
}
