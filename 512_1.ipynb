{
  "nbformat": 4,
  "nbformat_minor": 0,
  "metadata": {
    "colab": {
      "provenance": [],
      "authorship_tag": "ABX9TyMwOYw6I5VRhOh3DST3p+ML",
      "include_colab_link": true
    },
    "kernelspec": {
      "name": "python3",
      "display_name": "Python 3"
    },
    "language_info": {
      "name": "python"
    }
  },
  "cells": [
    {
      "cell_type": "markdown",
      "metadata": {
        "id": "view-in-github",
        "colab_type": "text"
      },
      "source": [
        "<a href=\"https://colab.research.google.com/github/Flowergift/Python_AI_Sample/blob/main/512_1.ipynb\" target=\"_parent\"><img src=\"https://colab.research.google.com/assets/colab-badge.svg\" alt=\"Open In Colab\"/></a>"
      ]
    },
    {
      "cell_type": "code",
      "execution_count": 2,
      "metadata": {
        "colab": {
          "base_uri": "https://localhost:8080/"
        },
        "id": "cInc-aIw48hE",
        "outputId": "2dd66faa-65a7-44c7-c5c6-34821ff12b42"
      },
      "outputs": [
        {
          "output_type": "stream",
          "name": "stdout",
          "text": [
            "image=\n",
            " [[3 4 0]\n",
            " [1 3 0]\n",
            " [0 1 4]]\n",
            "filter=\n",
            " [[4 1 2]\n",
            " [4 2 4]\n",
            " [3 4 2]]\n",
            "image_x_filter=\n",
            " [[12  4  0]\n",
            " [ 4  6  0]\n",
            " [ 0  4  8]]\n",
            "convolution=\n",
            " 38\n"
          ]
        }
      ],
      "source": [
        "import numpy as np\n",
        "\n",
        "np.random.seed(1)\n",
        "\n",
        "image = np.random.randint(5, size=(3,3))\n",
        "print('image=\\n', image)\n",
        "\n",
        "filter = np.random.randint(5, size=(3,3))\n",
        "print('filter=\\n', filter)\n",
        "\n",
        "image_x_filter = image * filter\n",
        "print('image_x_filter=\\n', image_x_filter)\n",
        "\n",
        "convolution = np.sum(image_x_filter)\n",
        "print('convolution=\\n', convolution)"
      ]
    }
  ]
}