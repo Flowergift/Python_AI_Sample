{
  "nbformat": 4,
  "nbformat_minor": 0,
  "metadata": {
    "colab": {
      "provenance": [],
      "authorship_tag": "ABX9TyPCQ7MzbomIUwA5mW7f8jG1",
      "include_colab_link": true
    },
    "kernelspec": {
      "name": "python3",
      "display_name": "Python 3"
    },
    "language_info": {
      "name": "python"
    }
  },
  "cells": [
    {
      "cell_type": "markdown",
      "metadata": {
        "id": "view-in-github",
        "colab_type": "text"
      },
      "source": [
        "<a href=\"https://colab.research.google.com/github/Flowergift/Python_AI_Sample/blob/main/536_1.ipynb\" target=\"_parent\"><img src=\"https://colab.research.google.com/assets/colab-badge.svg\" alt=\"Open In Colab\"/></a>"
      ]
    },
    {
      "cell_type": "code",
      "execution_count": 9,
      "metadata": {
        "colab": {
          "base_uri": "https://localhost:8080/"
        },
        "id": "RMVlUMow2qs4",
        "outputId": "f1c34982-5f82-4367-f915-f998124d1b41"
      },
      "outputs": [
        {
          "output_type": "stream",
          "name": "stdout",
          "text": [
            "X=\n",
            " [[3 4 0 1]\n",
            " [3 0 0 1]\n",
            " [4 4 1 2]\n",
            " [4 2 4 3]]\n",
            "W=\n",
            " [[4 2 4]\n",
            " [2 4 1]\n",
            " [1 0 1]]\n",
            "b= 0\n",
            "XP=\n",
            " [[0 0 0 0 0 0]\n",
            " [0 3 4 0 1 0]\n",
            " [0 3 0 0 1 0]\n",
            " [0 4 4 1 2 0]\n",
            " [0 4 2 4 3 0]\n",
            " [0 0 0 0 0 0]]\n",
            "Y=\n",
            " [[16. 25. 10.  4.]\n",
            " [38. 31. 27.  7.]\n",
            " [28. 45. 23. 16.]\n",
            " [42. 48. 49. 28.]]\n",
            "Yb=\n",
            " [[16. 25. 10.  4.]\n",
            " [38. 31. 27.  7.]\n",
            " [28. 45. 23. 16.]\n",
            " [42. 48. 49. 28.]]\n",
            "Wb=\n",
            " [[-17 -65 -27]\n",
            " [-75 -44  -5]\n",
            " [-28 -80 -45]]\n",
            "bb= -27\n",
            "XPb=\n",
            " [[  4  -2  -6  -4  -6   4]\n",
            " [-26 -44 -35 -59   4 -27]\n",
            " [-13 -45 -52  -8 -42   2]\n",
            " [ -3  -6 -13 -53  -7 -25]\n",
            " [  2   4  -6 -12 -26  -3]\n",
            " [  1   0   0  -5  -1  -5]]\n",
            "Xb=\n",
            " [[-44 -35 -59   4]\n",
            " [-45 -52  -8 -42]\n",
            " [ -6 -13 -53  -7]\n",
            " [  4  -6 -12 -26]]\n"
          ]
        }
      ],
      "source": [
        "import numpy as np\n",
        "\n",
        "np.random.seed(1)\n",
        "\n",
        "X = np.random.randint(5, size=(4,4))\n",
        "print('X=\\n', X)\n",
        "\n",
        "W = np.random.randint(5, size=(3,3))\n",
        "print('W=\\n', W)\n",
        "\n",
        "b = 0\n",
        "print('b=', b)\n",
        "XP = np.pad(X,((1,1),(1,1)))\n",
        "print('XP=\\n', XP)\n",
        "\n",
        "Y = np.zeros((4,4))\n",
        "\n",
        "for row in range(4):\n",
        "  for col in range(4):\n",
        "    winXP = XP[row:row+3, col:col+3]\n",
        "    Y[row, col] = np.sum(winXP*W)+b\n",
        "\n",
        "print('Y=\\n', Y)\n",
        "\n",
        "Yb = np.random.randint(-8,5,size=Y.shape)\n",
        "print('Yb=\\n', Y)\n",
        "Wb = np.zeros_like(W)\n",
        "\n",
        "for row in range(4):\n",
        "  for col in range(4):\n",
        "    winXP = XP[row:row+3, col:col+3]\n",
        "    Wb+=winXP*Yb[row, col]\n",
        "\n",
        "print('Wb=\\n', Wb)\n",
        "\n",
        "bb = np.sum(Yb)\n",
        "print('bb=', bb)\n",
        "\n",
        "XPb = np.zeros_like(XP)\n",
        "\n",
        "for row in range(4):\n",
        "  for col in range(4):\n",
        "    winXPb= XPb[row:row+3, col:col+3]\n",
        "    winXPb+=Yb[row, col]*W\n",
        "\n",
        "print('XPb=\\n', XPb)\n",
        "\n",
        "Xb = XPb[1:-1,1:-1]\n",
        "print('Xb=\\n', Xb)\n",
        "\n",
        "\n"
      ]
    }
  ]
}