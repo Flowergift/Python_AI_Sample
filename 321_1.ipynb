{
  "nbformat": 4,
  "nbformat_minor": 0,
  "metadata": {
    "colab": {
      "provenance": [],
      "authorship_tag": "ABX9TyOfYfemhAuKDkKY6h31XzSo",
      "include_colab_link": true
    },
    "kernelspec": {
      "name": "python3",
      "display_name": "Python 3"
    },
    "language_info": {
      "name": "python"
    }
  },
  "cells": [
    {
      "cell_type": "markdown",
      "metadata": {
        "id": "view-in-github",
        "colab_type": "text"
      },
      "source": [
        "<a href=\"https://colab.research.google.com/github/Flowergift/Python_AI_Sample/blob/main/321_1.ipynb\" target=\"_parent\"><img src=\"https://colab.research.google.com/assets/colab-badge.svg\" alt=\"Open In Colab\"/></a>"
      ]
    },
    {
      "cell_type": "code",
      "execution_count": 2,
      "metadata": {
        "colab": {
          "base_uri": "https://localhost:8080/",
          "height": 157
        },
        "id": "_hJ-7GKKv5tV",
        "outputId": "3d832f4b-21dd-42d2-fb99-fbbda7dfa290"
      },
      "outputs": [
        {
          "output_type": "stream",
          "name": "stdout",
          "text": [
            "I.shape=(10, 1, 7)\n",
            "T.shape=(10, 1, 4)\n",
            "I[2]: [[1 1 0 1 1 0 1]], shape=(1, 7)\n",
            "T[2]: [[0 0 1 0]], shape=(1, 4)\n",
            "I_0: [[0.0500 0.1000]], shape=(1, 2)\n",
            "T_0: [[0 1]], shape=(1, 2)\n"
          ]
        },
        {
          "output_type": "execute_result",
          "data": {
            "text/plain": [
              "'\\nfor epoch in range(1, 1000001):\\n\\n  H = I[2] @ WH + BH\\n  H = (H>0)*H # ReLU\\n\\n  O[2] = H @ WO + BO\\n  O[2] = 1/(1+np.exp(-O[2]))\\n  E = np.sum((O[2]-T[2])**2/2) #mean squared error\\n\\n  if epoch==1 :\\n    print(\"epoch = %d\" %epoch)\\n    print(\"Error = %.4f\" %E)\\n    print(\"Output =\", O[2])\\n    print()\\n\\n  if E<0.0001 :\\n    print(\"epoch = %d\" %epoch)\\n    print(\"Error = %.4f\" %E)\\n    print(\"Output =\", O[2])\\n    break\\n\\nOb = O[2] - T[2]\\nOb = Ob*O[2]*(1-O[2]) #sigmoid\\n\\nHb = Ob @ WO.T\\nHb = Hb*(H>0)*1 #ReLU\\n\\nWHb = I[2].T @ Hb\\nBHb = 1 * Hb\\nWOb = H.T @ Ob\\nB0b = 1 * Ob\\n\\nlr = 0.01\\nWH = WH - lr * WHb\\nBH = BH - lr * BHb\\nWO = WO - lr * WOb\\nBO = BO - lr * B0b\\n'"
            ],
            "application/vnd.google.colaboratory.intrinsic+json": {
              "type": "string"
            }
          },
          "metadata": {},
          "execution_count": 2
        }
      ],
      "source": [
        "\n",
        "import numpy as np\n",
        "\n",
        "#np.set_printoptions(formatter={'float_kind':lambda x: \"{0:6.4f}\".format(x)})\n",
        "\n",
        "#NUM_PATTERN = 100\n",
        "#NUM_IN = 7\n",
        "#NUM_HID = 8\n",
        "#NUM_OUT = 4\n",
        "\n",
        "I = np.array([\n",
        "    [[1,1,1,1,1,1,0]], #0\n",
        "    [[0,1,1,0,0,0,0]], #1\n",
        "    [[1,1,0,1,1,0,1]], #2\n",
        "    [[1,1,1,1,0,0,1]], #3\n",
        "    [[0,1,1,0,0,1,1]], #4\n",
        "    [[1,0,1,1,0,1,1]], #5\n",
        "    [[0,0,1,1,1,1,1]], #6\n",
        "    [[1,1,1,0,0,0,0]], #7\n",
        "    [[1,1,1,1,1,1,1]], #8\n",
        "    [[1,1,1,0,0,1,1]] #9\n",
        "])\n",
        "\n",
        "T = np.array([\n",
        "    [[0,0,0,0]],\n",
        "    [[0,0,0,1]],\n",
        "    [[0,0,1,0]],\n",
        "    [[0,0,1,1]],\n",
        "    [[0,1,0,0]],\n",
        "    [[0,1,0,1]],\n",
        "    [[0,1,1,0]],\n",
        "    [[0,1,1,1]],\n",
        "    [[1,0,0,0]],\n",
        "    [[1,0,0,1]]\n",
        "])\n",
        "\n",
        "#O = np.zeros((NUM_PATTERN, 1, NUM_OUT))\n",
        "#WH = np.random.randn(NUM_IN, NUM_HID)/np.sqrt(NUM_IN/2) #He\n",
        "#BH = np.zeros((1, NUM_HID))\n",
        "#WO = np.random.randn(NUM_HID,NUM_OUT)/np.sqrt(NUM_HID) #Lecun\n",
        "#BO = np.zeros((1, NUM_OUT))\n",
        "\n",
        "print(\"I.shape={}\".format(I.shape))\n",
        "print(\"T.shape={}\".format(T.shape))\n",
        "print(\"I[2]: {}, shape={}\".format(I[2],I[2].shape))\n",
        "print(\"T[2]: {}, shape={}\".format(T[2],T[2].shape))\n",
        "\n",
        "I_0 = np.array([[.05,.10]])\n",
        "T_0 = np.array([[0,1]])\n",
        "\n",
        "print(\"I_0: {}, shape={}\".format(I_0, I_0.shape))\n",
        "print(\"T_0: {}, shape={}\".format(T_0, T_0.shape))\n",
        "\"\"\"\n",
        "for epoch in range(1, 1000001):\n",
        "\n",
        "  H = I[2] @ WH + BH\n",
        "  H = (H>0)*H # ReLU\n",
        "\n",
        "  O[2] = H @ WO + BO\n",
        "  O[2] = 1/(1+np.exp(-O[2]))\n",
        "  E = np.sum((O[2]-T[2])**2/2) #mean squared error\n",
        "\n",
        "  if epoch==1 :\n",
        "    print(\"epoch = %d\" %epoch)\n",
        "    print(\"Error = %.4f\" %E)\n",
        "    print(\"Output =\", O[2])\n",
        "    print()\n",
        "\n",
        "  if E<0.0001 :\n",
        "    print(\"epoch = %d\" %epoch)\n",
        "    print(\"Error = %.4f\" %E)\n",
        "    print(\"Output =\", O[2])\n",
        "    break\n",
        "\n",
        "Ob = O[2] - T[2]\n",
        "Ob = Ob*O[2]*(1-O[2]) #sigmoid\n",
        "\n",
        "Hb = Ob @ WO.T\n",
        "Hb = Hb*(H>0)*1 #ReLU\n",
        "\n",
        "WHb = I[2].T @ Hb\n",
        "BHb = 1 * Hb\n",
        "WOb = H.T @ Ob\n",
        "B0b = 1 * Ob\n",
        "\n",
        "lr = 0.01\n",
        "WH = WH - lr * WHb\n",
        "BH = BH - lr * BHb\n",
        "WO = WO - lr * WOb\n",
        "BO = BO - lr * B0b\n",
        "\"\"\""
      ]
    }
  ]
}