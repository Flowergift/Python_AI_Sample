{
  "nbformat": 4,
  "nbformat_minor": 0,
  "metadata": {
    "colab": {
      "provenance": [],
      "authorship_tag": "ABX9TyMr/uJ/IHsT44TA6sZnbWgF",
      "include_colab_link": true
    },
    "kernelspec": {
      "name": "python3",
      "display_name": "Python 3"
    },
    "language_info": {
      "name": "python"
    }
  },
  "cells": [
    {
      "cell_type": "markdown",
      "metadata": {
        "id": "view-in-github",
        "colab_type": "text"
      },
      "source": [
        "<a href=\"https://colab.research.google.com/github/Flowergift/Python_AI_Sample/blob/main/611_1.ipynb\" target=\"_parent\"><img src=\"https://colab.research.google.com/assets/colab-badge.svg\" alt=\"Open In Colab\"/></a>"
      ]
    },
    {
      "cell_type": "code",
      "execution_count": 11,
      "metadata": {
        "colab": {
          "base_uri": "https://localhost:8080/"
        },
        "id": "GKhAcwV3dku5",
        "outputId": "d0182fb5-55e1-4f84-eb4a-a519c1c52159"
      },
      "outputs": [
        {
          "output_type": "stream",
          "name": "stdout",
          "text": [
            "I=\n",
            " [[ 0.417  0.720  0.000  0.302]\n",
            " [ 0.147  0.092  0.186  0.346]\n",
            " [ 0.397  0.539  0.419  0.685]\n",
            " [ 0.204  0.878  0.027  0.670]]\n",
            "WC_0=\n",
            " [[ 0.417  0.140  0.801]\n",
            " [ 0.313  0.876  0.085]\n",
            " [ 0.170  0.098  0.958]]\n",
            "WC_1=\n",
            " [[ 0.559  0.198  0.968]\n",
            " [ 0.692  0.895  0.039]\n",
            " [ 0.878  0.421  0.533]]\n",
            "BC= [ 0.692  0.316]\n",
            "WO=\n",
            " [ 0.687  0.750  0.280  0.448  0.288  0.679  0.492  0.147]\n",
            "BO= [ 0.102  0.414  0.694]\n",
            "T= [[ 0.000  0.000  0.000]]\n"
          ]
        }
      ],
      "source": [
        "import tensorflow as tf\n",
        "import numpy as np\n",
        "\n",
        "np.set_printoptions(formatter={'float_kind':lambda x: \"{0:6.3f}\".format(x)})\n",
        "\n",
        "IMG_SIZE = 4\n",
        "HALF_SIZE = int(IMG_SIZE/2)\n",
        "\n",
        "I_DEPTH = 1\n",
        "C_DEPTH = 2\n",
        "K_SIZE = 3\n",
        "NUM_OUT = 3\n",
        "\n",
        "np.random.seed(1)\n",
        "\n",
        "I = np.random.rand(1,IMG_SIZE, IMG_SIZE, I_DEPTH)\n",
        "WC = np.random.rand(K_SIZE, K_SIZE, I_DEPTH, C_DEPTH)\n",
        "\"\"\"합성곱에서 사용할 필터를 가르키는 변수.\n",
        "   CNN에서 필터는 학습의 대상이 되는 가중치\"\"\"\n",
        "BC = np.random.rand(C_DEPTH,)\n",
        "\"\"\"편향을 가리키는 변수. 출력층의 깊이와 같음.\"\"\"\n",
        "WO = np.random.rand(HALF_SIZE*HALF_SIZE*C_DEPTH, NUM_OUT)\n",
        "\"\"\"완전 연결층에서 입력 층과 출력 층 사이에 사용할 가중치\"\"\"\n",
        "BO = np.random.rand(NUM_OUT,)\n",
        "\"\"\"완전 연결층에서 입력 층과 출력 층 사이에 사용할 편향\"\"\"\n",
        "T= np.zeros((1,NUM_OUT))\n",
        "\n",
        "print('I=\\n', I[0,:,:,0])\n",
        "print('WC_0=\\n', WC[:,:,0,0])\n",
        "print('WC_1=\\n', WC[:,:,0,1])\n",
        "print('BC=', BC)\n",
        "print('WO=\\n', WO[:,0])\n",
        "print('BO=', BO)\n",
        "\n",
        "print('T=', T)\n"
      ]
    }
  ]
}