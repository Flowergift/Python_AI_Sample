{
  "nbformat": 4,
  "nbformat_minor": 0,
  "metadata": {
    "colab": {
      "provenance": [],
      "authorship_tag": "ABX9TyPamWwhhzw6VZgtBCA40DU/",
      "include_colab_link": true
    },
    "kernelspec": {
      "name": "python3",
      "display_name": "Python 3"
    },
    "language_info": {
      "name": "python"
    }
  },
  "cells": [
    {
      "cell_type": "markdown",
      "metadata": {
        "id": "view-in-github",
        "colab_type": "text"
      },
      "source": [
        "<a href=\"https://colab.research.google.com/github/Flowergift/Python_AI_Sample/blob/main/518_1.ipynb\" target=\"_parent\"><img src=\"https://colab.research.google.com/assets/colab-badge.svg\" alt=\"Open In Colab\"/></a>"
      ]
    },
    {
      "cell_type": "code",
      "execution_count": 26,
      "metadata": {
        "colab": {
          "base_uri": "https://localhost:8080/"
        },
        "id": "cInc-aIw48hE",
        "outputId": "7e428a58-b9b8-4d90-c755-5df0a203e294"
      },
      "outputs": [
        {
          "output_type": "stream",
          "name": "stdout",
          "text": [
            "image_0=\n",
            " [[3 0 3]\n",
            " [0 4 1]\n",
            " [4 4 4]]\n",
            "image_1=\n",
            " [[4 1 0]\n",
            " [1 4 2]\n",
            " [2 3 2]]\n",
            "filter_0=\n",
            " [[4 4 1]\n",
            " [1 1 0]\n",
            " [1 0 2]]\n",
            "filter_1=\n",
            " [[2 1 0]\n",
            " [1 1 4]\n",
            " [0 3 1]]\n",
            "image_x_filter_0=\n",
            " [[12  0  3]\n",
            " [ 0  4  0]\n",
            " [ 4  0  8]]\n",
            "image_x_filter_1=\n",
            " [[8 1 0]\n",
            " [1 4 8]\n",
            " [0 9 2]]\n",
            "convolution=\n",
            " 64\n"
          ]
        }
      ],
      "source": [
        "import numpy as np\n",
        "\n",
        "np.random.seed(1)\n",
        "\n",
        "image = np.random.randint(5, size=(3,3,2))\n",
        "print('image_0=\\n', image[:,:,0])\n",
        "print('image_1=\\n', image[:,:,1])\n",
        "\n",
        "filter = np.random.randint(5, size=(3,3,2))\n",
        "print('filter_0=\\n', filter[:,:,0])\n",
        "print('filter_1=\\n', filter[:,:,1])\n",
        "\n",
        "image_x_filter = image*filter\n",
        "print('image_x_filter_0=\\n', image_x_filter[:,:,0])\n",
        "print('image_x_filter_1=\\n', image_x_filter[:,:,1])\n",
        "\n",
        "convolution = np.sum(image_x_filter)\n",
        "print('convolution=\\n', convolution)\n"
      ]
    }
  ]
}