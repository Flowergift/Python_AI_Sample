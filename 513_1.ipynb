{
  "nbformat": 4,
  "nbformat_minor": 0,
  "metadata": {
    "colab": {
      "provenance": [],
      "authorship_tag": "ABX9TyMopibVDSyP0D0+x+WtiaY7",
      "include_colab_link": true
    },
    "kernelspec": {
      "name": "python3",
      "display_name": "Python 3"
    },
    "language_info": {
      "name": "python"
    }
  },
  "cells": [
    {
      "cell_type": "markdown",
      "metadata": {
        "id": "view-in-github",
        "colab_type": "text"
      },
      "source": [
        "<a href=\"https://colab.research.google.com/github/Flowergift/Python_AI_Sample/blob/main/513_1.ipynb\" target=\"_parent\"><img src=\"https://colab.research.google.com/assets/colab-badge.svg\" alt=\"Open In Colab\"/></a>"
      ]
    },
    {
      "cell_type": "code",
      "execution_count": 3,
      "metadata": {
        "colab": {
          "base_uri": "https://localhost:8080/"
        },
        "id": "RMVlUMow2qs4",
        "outputId": "62d0595d-430f-4e61-8fdf-17a06f1c4e98"
      },
      "outputs": [
        {
          "output_type": "stream",
          "name": "stdout",
          "text": [
            "image=\n",
            ", image\n",
            "filter=\n",
            " [[4 2 4]\n",
            " [2 4 1]\n",
            " [1 0 1]]\n",
            "window(0, 0) =\n",
            " [[3 4 0]\n",
            " [3 0 0]\n",
            " [4 4 1]]\n",
            "window(0, 0)*filter =\n",
            " [[12  8  0]\n",
            " [ 6  0  0]\n",
            " [ 4  0  1]]\n",
            "window(0, 1) =\n",
            " [[4 0 1]\n",
            " [0 0 1]\n",
            " [4 1 2]]\n",
            "window(0, 1)*filter =\n",
            " [[16  0  4]\n",
            " [ 0  0  1]\n",
            " [ 4  0  2]]\n",
            "window(1, 0) =\n",
            " [[3 0 0]\n",
            " [4 4 1]\n",
            " [4 2 4]]\n",
            "window(1, 0)*filter =\n",
            " [[12  0  0]\n",
            " [ 8 16  1]\n",
            " [ 4  0  4]]\n",
            "window(1, 1) =\n",
            " [[0 0 1]\n",
            " [4 1 2]\n",
            " [2 4 3]]\n",
            "window(1, 1)*filter =\n",
            " [[0 0 4]\n",
            " [8 4 2]\n",
            " [2 0 3]]\n",
            "convolution =\n",
            " [[31. 27.]\n",
            " [45. 23.]]\n"
          ]
        }
      ],
      "source": [
        "import numpy as np\n",
        "\n",
        "np.random.seed(1)\n",
        "\n",
        "image = np.random.randint(5, size=(4,4))\n",
        "print('image=\\n, image')\n",
        "\n",
        "filter = np.random.randint(5, size=(3,3))\n",
        "print('filter=\\n', filter)\n",
        "\n",
        "convolution = np.zeros((2,2))\n",
        "\n",
        "for row in range(2):\n",
        "  for col in range(2):\n",
        "    window = image[row:row+3, col:col+3]\n",
        "    print('window(%d, %d) =\\n' %(row, col), window)\n",
        "    print('window(%d, %d)*filter =\\n' %(row,col), window*filter)\n",
        "    convolution[row, col] = np.sum(window*filter)\n",
        "\n",
        "print('convolution =\\n', convolution)\n",
        "\n"
      ]
    }
  ]
}