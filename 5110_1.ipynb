{
  "nbformat": 4,
  "nbformat_minor": 0,
  "metadata": {
    "colab": {
      "provenance": [],
      "authorship_tag": "ABX9TyPg5Mtf7Bv5kUasxMHWXyCp",
      "include_colab_link": true
    },
    "kernelspec": {
      "name": "python3",
      "display_name": "Python 3"
    },
    "language_info": {
      "name": "python"
    }
  },
  "cells": [
    {
      "cell_type": "markdown",
      "metadata": {
        "id": "view-in-github",
        "colab_type": "text"
      },
      "source": [
        "<a href=\"https://colab.research.google.com/github/Flowergift/Python_AI_Sample/blob/main/5110_1.ipynb\" target=\"_parent\"><img src=\"https://colab.research.google.com/assets/colab-badge.svg\" alt=\"Open In Colab\"/></a>"
      ]
    },
    {
      "cell_type": "code",
      "execution_count": 36,
      "metadata": {
        "colab": {
          "base_uri": "https://localhost:8080/"
        },
        "id": "cInc-aIw48hE",
        "outputId": "73899193-24db-4f52-b8c3-3af54d46ebea"
      },
      "outputs": [
        {
          "output_type": "stream",
          "name": "stdout",
          "text": [
            "image_0=\n",
            " [[3 1 0 4]\n",
            " [4 3 4 1]\n",
            " [1 1 1 3]\n",
            " [0 1 0 4]]\n",
            "image_1=\n",
            " [[4 3 1 1]\n",
            " [2 4 2 1]\n",
            " [1 0 0 2]\n",
            " [3 3 1 2]]\n",
            "image_2=\n",
            " [[0 0 4 2]\n",
            " [4 2 4 0]\n",
            " [1 4 0 1]\n",
            " [1 4 3 4]]\n",
            "filter_00=\n",
            " [[0 1 3]\n",
            " [0 2 0]\n",
            " [3 4 0]]\n",
            "filter_01=\n",
            " [[1 2 3]\n",
            " [2 0 4]\n",
            " [3 1 4]]\n",
            "filter_02=\n",
            " [[0 0 3]\n",
            " [3 1 4]\n",
            " [3 4 1]]\n",
            "filter_10=\n",
            " [[3 2 4]\n",
            " [2 0 0]\n",
            " [0 4 2]]\n",
            "filter_11=\n",
            " [[2 1 1]\n",
            " [1 1 2]\n",
            " [4 0 1]]\n",
            "filter_12=\n",
            " [[4 1 0]\n",
            " [4 3 3]\n",
            " [4 2 0]]\n",
            "image_pad_0=\n",
            " [[0 0 0 0 0 0]\n",
            " [0 3 1 0 4 0]\n",
            " [0 4 3 4 1 0]\n",
            " [0 1 1 1 3 0]\n",
            " [0 0 1 0 4 0]\n",
            " [0 0 0 0 0 0]]\n",
            "image_pad_1=\n",
            " [[0 0 0 0 0 0]\n",
            " [0 4 3 1 1 0]\n",
            " [0 2 4 2 1 0]\n",
            " [0 1 0 0 2 0]\n",
            " [0 3 3 1 2 0]\n",
            " [0 0 0 0 0 0]]\n",
            "image_pad_2=\n",
            " [[0 0 0 0 0 0]\n",
            " [0 0 0 4 2 0]\n",
            " [0 4 2 4 0 0]\n",
            " [0 1 4 0 1 0]\n",
            " [0 1 4 3 4 0]\n",
            " [0 0 0 0 0 0]]\n",
            "convolution_0=\n",
            " [[ 70.  96.  87.  59.]\n",
            " [ 72. 103.  84.  46.]\n",
            " [ 77.  96.  93.  58.]\n",
            " [ 47.  36.  64.  30.]]\n",
            "convolution_1=\n",
            " [[ 44.  77.  77.  52.]\n",
            " [ 53.  97.  93.  70.]\n",
            " [ 53. 110. 113.  82.]\n",
            " [ 32.  52.  82.  39.]]\n"
          ]
        }
      ],
      "source": [
        "import numpy as np\n",
        "\n",
        "np.random.seed(1)\n",
        "\n",
        "image = np.random.randint(5, size=(4,4,3))\n",
        "print('image_0=\\n', image[:,:,0])\n",
        "print('image_1=\\n', image[:,:,1])\n",
        "print('image_2=\\n', image[:,:,2])\n",
        "\n",
        "filter = np.random.randint(5, size=(3,3,3,2))\n",
        "print('filter_00=\\n', filter[:,:,0,0])\n",
        "print('filter_01=\\n', filter[:,:,1,0])\n",
        "print('filter_02=\\n', filter[:,:,2,0])\n",
        "print('filter_10=\\n', filter[:,:,0,1])\n",
        "print('filter_11=\\n', filter[:,:,1,1])\n",
        "print('filter_12=\\n', filter[:,:,2,1])\n",
        "\n",
        "image_pad = np.pad(image, ((1,1),(1,1),(0,0)))\n",
        "print('image_pad_0=\\n', image_pad[:,:,0])\n",
        "print('image_pad_1=\\n', image_pad[:,:,1])\n",
        "print('image_pad_2=\\n', image_pad[:,:,2])\n",
        "\n",
        "convolution = np.zeros((4,4,2))\n",
        "\n",
        "for fn in range(2):\n",
        "  for row in range(4):\n",
        "    for col in range(4):\n",
        "      window = image_pad[row:row+3, col:col+3]\n",
        "      convolution[row, col, fn] = np.sum(window*filter[:, :, :, fn])\n",
        "\n",
        "\n",
        "print('convolution_0=\\n', convolution[:,:,0])\n",
        "print('convolution_1=\\n', convolution[:,:,1])"
      ]
    }
  ]
}