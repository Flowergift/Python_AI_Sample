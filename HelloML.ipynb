{
  "nbformat": 4,
  "nbformat_minor": 0,
  "metadata": {
    "colab": {
      "provenance": [],
      "authorship_tag": "ABX9TyNDDhfQ742UGcZI+7/s7frS",
      "include_colab_link": true
    },
    "kernelspec": {
      "name": "python3",
      "display_name": "Python 3"
    },
    "language_info": {
      "name": "python"
    }
  },
  "cells": [
    {
      "cell_type": "markdown",
      "metadata": {
        "id": "view-in-github",
        "colab_type": "text"
      },
      "source": [
        "<a href=\"https://colab.research.google.com/github/Flowergift/Python_AI_Sample/blob/main/HelloML.ipynb\" target=\"_parent\"><img src=\"https://colab.research.google.com/assets/colab-badge.svg\" alt=\"Open In Colab\"/></a>"
      ]
    },
    {
      "cell_type": "code",
      "execution_count": null,
      "metadata": {
        "colab": {
          "base_uri": "https://localhost:8080/"
        },
        "id": "Kw-VQvfY4kgC",
        "outputId": "509554c1-6fce-4ed8-a024-1ef5ddf31780"
      },
      "outputs": [
        {
          "output_type": "stream",
          "name": "stdout",
          "text": [
            "y: 31\n"
          ]
        }
      ],
      "source": [
        "def f(x):\n",
        "  return 3*x+1\n",
        "x=10\n",
        "y=f(x)\n",
        "\n",
        "print('y:',y)\n"
      ]
    },
    {
      "cell_type": "code",
      "source": [
        "import tensorflow as tf\n",
        "import numpy as np\n",
        "xs = np.array([-1.0, 0.0, 1.0, 2.0, 3.0, 4.0])\n",
        "ys = np.array([-2.0,1.0,4.0,7.0,10.,13.])\n",
        "\n",
        "model = tf.keras.Sequential([\n",
        "    tf.keras.layers.InputLayer(input_shape=(1,)),\n",
        "    tf.keras.layers.Dense(1)\n",
        "])\n",
        "\n",
        "model.compile(optimizer='sgd', loss='mean_squared_error')\n",
        "\n",
        "model.fit(xs, ys, epochs=50)\n",
        "\n",
        "p = model.predict([10,10])\n",
        "\n",
        "print('p:',p)\n",
        "\n",
        "\n"
      ],
      "metadata": {
        "colab": {
          "base_uri": "https://localhost:8080/"
        },
        "id": "hR8tPx9wENap",
        "outputId": "94e2b9b1-8636-4c72-dfe9-b572ae7d34e7"
      },
      "execution_count": null,
      "outputs": [
        {
          "output_type": "stream",
          "name": "stdout",
          "text": [
            "Epoch 1/50\n",
            "1/1 [==============================] - 0s 292ms/step - loss: 76.0708\n",
            "Epoch 2/50\n",
            "1/1 [==============================] - 0s 11ms/step - loss: 59.8506\n",
            "Epoch 3/50\n",
            "1/1 [==============================] - 0s 9ms/step - loss: 47.0892\n",
            "Epoch 4/50\n",
            "1/1 [==============================] - 0s 9ms/step - loss: 37.0492\n",
            "Epoch 5/50\n",
            "1/1 [==============================] - 0s 9ms/step - loss: 29.1502\n",
            "Epoch 6/50\n",
            "1/1 [==============================] - 0s 9ms/step - loss: 22.9356\n",
            "Epoch 7/50\n",
            "1/1 [==============================] - 0s 9ms/step - loss: 18.0462\n",
            "Epoch 8/50\n",
            "1/1 [==============================] - 0s 9ms/step - loss: 14.1994\n",
            "Epoch 9/50\n",
            "1/1 [==============================] - 0s 9ms/step - loss: 11.1729\n",
            "Epoch 10/50\n",
            "1/1 [==============================] - 0s 9ms/step - loss: 8.7918\n",
            "Epoch 11/50\n",
            "1/1 [==============================] - 0s 9ms/step - loss: 6.9184\n",
            "Epoch 12/50\n",
            "1/1 [==============================] - 0s 9ms/step - loss: 5.4445\n",
            "Epoch 13/50\n",
            "1/1 [==============================] - 0s 9ms/step - loss: 4.2849\n",
            "Epoch 14/50\n",
            "1/1 [==============================] - 0s 9ms/step - loss: 3.3725\n",
            "Epoch 15/50\n",
            "1/1 [==============================] - 0s 9ms/step - loss: 2.6546\n",
            "Epoch 16/50\n",
            "1/1 [==============================] - 0s 9ms/step - loss: 2.0899\n",
            "Epoch 17/50\n",
            "1/1 [==============================] - 0s 9ms/step - loss: 1.6455\n",
            "Epoch 18/50\n",
            "1/1 [==============================] - 0s 9ms/step - loss: 1.2958\n",
            "Epoch 19/50\n",
            "1/1 [==============================] - 0s 9ms/step - loss: 1.0207\n",
            "Epoch 20/50\n",
            "1/1 [==============================] - 0s 17ms/step - loss: 0.8043\n",
            "Epoch 21/50\n",
            "1/1 [==============================] - 0s 9ms/step - loss: 0.6339\n",
            "Epoch 22/50\n",
            "1/1 [==============================] - 0s 9ms/step - loss: 0.4999\n",
            "Epoch 23/50\n",
            "1/1 [==============================] - 0s 9ms/step - loss: 0.3944\n",
            "Epoch 24/50\n",
            "1/1 [==============================] - 0s 9ms/step - loss: 0.3114\n",
            "Epoch 25/50\n",
            "1/1 [==============================] - 0s 9ms/step - loss: 0.2461\n",
            "Epoch 26/50\n",
            "1/1 [==============================] - 0s 9ms/step - loss: 0.1947\n",
            "Epoch 27/50\n",
            "1/1 [==============================] - 0s 10ms/step - loss: 0.1542\n",
            "Epoch 28/50\n",
            "1/1 [==============================] - 0s 9ms/step - loss: 0.1223\n",
            "Epoch 29/50\n",
            "1/1 [==============================] - 0s 9ms/step - loss: 0.0973\n",
            "Epoch 30/50\n",
            "1/1 [==============================] - 0s 9ms/step - loss: 0.0775\n",
            "Epoch 31/50\n",
            "1/1 [==============================] - 0s 8ms/step - loss: 0.0619\n",
            "Epoch 32/50\n",
            "1/1 [==============================] - 0s 9ms/step - loss: 0.0497\n",
            "Epoch 33/50\n",
            "1/1 [==============================] - 0s 9ms/step - loss: 0.0400\n",
            "Epoch 34/50\n",
            "1/1 [==============================] - 0s 9ms/step - loss: 0.0324\n",
            "Epoch 35/50\n",
            "1/1 [==============================] - 0s 9ms/step - loss: 0.0263\n",
            "Epoch 36/50\n",
            "1/1 [==============================] - 0s 9ms/step - loss: 0.0216\n",
            "Epoch 37/50\n",
            "1/1 [==============================] - 0s 12ms/step - loss: 0.0178\n",
            "Epoch 38/50\n",
            "1/1 [==============================] - 0s 11ms/step - loss: 0.0149\n",
            "Epoch 39/50\n",
            "1/1 [==============================] - 0s 9ms/step - loss: 0.0125\n",
            "Epoch 40/50\n",
            "1/1 [==============================] - 0s 9ms/step - loss: 0.0106\n",
            "Epoch 41/50\n",
            "1/1 [==============================] - 0s 11ms/step - loss: 0.0091\n",
            "Epoch 42/50\n",
            "1/1 [==============================] - 0s 10ms/step - loss: 0.0080\n",
            "Epoch 43/50\n",
            "1/1 [==============================] - 0s 9ms/step - loss: 0.0070\n",
            "Epoch 44/50\n",
            "1/1 [==============================] - 0s 10ms/step - loss: 0.0062\n",
            "Epoch 45/50\n",
            "1/1 [==============================] - 0s 9ms/step - loss: 0.0056\n",
            "Epoch 46/50\n",
            "1/1 [==============================] - 0s 9ms/step - loss: 0.0051\n",
            "Epoch 47/50\n",
            "1/1 [==============================] - 0s 10ms/step - loss: 0.0047\n",
            "Epoch 48/50\n",
            "1/1 [==============================] - 0s 9ms/step - loss: 0.0044\n",
            "Epoch 49/50\n",
            "1/1 [==============================] - 0s 9ms/step - loss: 0.0041\n",
            "Epoch 50/50\n",
            "1/1 [==============================] - 0s 10ms/step - loss: 0.0039\n",
            "1/1 [==============================] - 0s 74ms/step\n",
            "p: [[30.74305]\n",
            " [30.74305]]\n"
          ]
        }
      ]
    }
  ]
}