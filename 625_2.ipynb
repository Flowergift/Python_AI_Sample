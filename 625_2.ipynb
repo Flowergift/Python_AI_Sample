{
  "nbformat": 4,
  "nbformat_minor": 0,
  "metadata": {
    "colab": {
      "provenance": [],
      "authorship_tag": "ABX9TyPu7kdd2k8VWBT5RFeC+dOr",
      "include_colab_link": true
    },
    "kernelspec": {
      "name": "python3",
      "display_name": "Python 3"
    },
    "language_info": {
      "name": "python"
    }
  },
  "cells": [
    {
      "cell_type": "markdown",
      "metadata": {
        "id": "view-in-github",
        "colab_type": "text"
      },
      "source": [
        "<a href=\"https://colab.research.google.com/github/Flowergift/Python_AI_Sample/blob/main/625_2.ipynb\" target=\"_parent\"><img src=\"https://colab.research.google.com/assets/colab-badge.svg\" alt=\"Open In Colab\"/></a>"
      ]
    },
    {
      "cell_type": "code",
      "execution_count": 109,
      "metadata": {
        "colab": {
          "base_uri": "https://localhost:8080/"
        },
        "id": "GKhAcwV3dku5",
        "outputId": "d635e47f-5c9a-41d6-ece5-38e2f6b6f556"
      },
      "outputs": [
        {
          "output_type": "stream",
          "name": "stdout",
          "text": [
            "O =\n",
            " [[ 0.000  0.000  0.000  0.000  0.000  1.000  0.000  0.000  0.000  0.000]]\n",
            "E =\n",
            " 0.0\n",
            "WO =\n",
            " [ 0.918  0.127  0.293 ...  0.965  0.344  0.300]\n",
            "BO =\n",
            " [[ 0.300  0.915  0.872  0.209  0.599  0.671  0.475  0.619  0.909  0.459]]\n",
            "WC_0 =\n",
            " [[ 0.014 -0.159 -0.134]\n",
            " [-0.119  0.012 -0.249]\n",
            " [-0.257 -0.400 -0.419]]\n",
            "WC_1 =\n",
            " [[-0.141 -0.333 -0.259]\n",
            " [-0.220  0.370  0.200]\n",
            " [-0.061  0.156 -0.054]]\n",
            "BC =\n",
            " [-0.774 -0.156 -0.066 -0.509 -0.353 -0.376 -0.388 -0.146 -0.778 -0.112\n",
            " -0.423 -0.834 -0.741 -0.424 -0.789 -0.859 -0.859 -0.115 -0.395 -0.076\n",
            " -0.645 -0.468 -0.358 -0.402 -0.922 -0.218 -0.078 -0.465 -0.838 -0.225\n",
            " -0.942 -0.612]\n"
          ]
        }
      ],
      "source": [
        "import numpy as np\n",
        "import sys\n",
        "sys.path.append('/content/sample_data/my_cnn2D.py')\n",
        "sys.path.append('/content/sample_data/my_cnn3D.py')\n",
        "\n",
        "from my_cnn3D import*\n",
        "from my_cnn2D import*\n",
        "\n",
        "\n",
        "np.set_printoptions(formatter={'float_kind':lambda x: \"{0:6.3f}\".format(x)})\n",
        "\n",
        "IMG_SIZE = 28 #\n",
        "HALF_SIZE = int(IMG_SIZE/2)\n",
        "\n",
        "I_DEPTH = 1\n",
        "C_DEPTH = 32 #\n",
        "K_SIZE = 3\n",
        "P_SIZE = 2\n",
        "NUM_OUT = 10 #\n",
        "\n",
        "np.random.seed(1)\n",
        "\n",
        "I = np.random.rand(1,IMG_SIZE,IMG_SIZE,I_DEPTH)\n",
        "WC = np.random.rand(K_SIZE,K_SIZE,I_DEPTH,C_DEPTH)\n",
        "BC = np.random.rand(C_DEPTH,)\n",
        "\n",
        "WO = np.random.rand(HALF_SIZE*HALF_SIZE*C_DEPTH,NUM_OUT)\n",
        "BO = np.random.rand(1, NUM_OUT)\n",
        "\n",
        "T = np.zeros((1, NUM_OUT))\n",
        "\n",
        "for epoch in range(1): #\n",
        "\n",
        "\tC, cache = conv_2D_f(I[0], WC, BC)\n",
        "\tC = (C>0)*C # relu\n",
        "\n",
        "\tP = max_pool_3D_f(C)\n",
        "\n",
        "\t(p_size, _, p_depth) = P.shape\n",
        "\tF = P.reshape((1,p_size*p_size*p_depth))\n",
        "\n",
        "\tO = F@WO + BO\n",
        "\tOM = O - np.max(O) #\n",
        "\tO = np.exp(OM)/np.sum(np.exp(OM)) # softmax\n",
        "\tprint('O =\\n', O) #\n",
        "\n",
        "\tE = np.sum(-T*np.log(O)) #\n",
        "\tprint('E =\\n', E) #\n",
        "\n",
        "\tOb = (O-T) #\n",
        "\t# nothing for softmax\n",
        "\n",
        "\tWOb = F.T@Ob\n",
        "\tBOb = Ob\n",
        "\n",
        "\tFb = Ob@WO.T\n",
        "\n",
        "\tPb = Fb.reshape(P.shape)\n",
        "\n",
        "\tCb = max_pool_3D_b(Pb, C)\n",
        "\tCb = Cb*(C>0)*1 # relu\n",
        "\n",
        "\tWCb, BCb, Ib = conv_2D_b(Cb, I[0], WC, BC, cache, input_back=False)\n",
        "\n",
        "\tlr = 0.01\n",
        "\tWO -= lr*WOb\n",
        "\tBO -= lr*BOb\n",
        "\tWC -= lr*WCb\n",
        "\tBC -= lr*BCb\n",
        "\n",
        "print('WO =\\n', WO[:,0])\n",
        "print('BO =\\n', BO)\n",
        "print('WC_0 =\\n', WC[:,:,0,0])\n",
        "print('WC_1 =\\n', WC[:,:,0,1])\n",
        "print('BC =\\n', BC)"
      ]
    },
    {
      "cell_type": "code",
      "source": [],
      "metadata": {
        "id": "lfpWp8fLERbk"
      },
      "execution_count": null,
      "outputs": []
    }
  ]
}