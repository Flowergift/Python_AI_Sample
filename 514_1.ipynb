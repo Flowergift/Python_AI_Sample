{
  "nbformat": 4,
  "nbformat_minor": 0,
  "metadata": {
    "colab": {
      "provenance": [],
      "authorship_tag": "ABX9TyMemSIadHUxRDAtOHq9IBek",
      "include_colab_link": true
    },
    "kernelspec": {
      "name": "python3",
      "display_name": "Python 3"
    },
    "language_info": {
      "name": "python"
    }
  },
  "cells": [
    {
      "cell_type": "markdown",
      "metadata": {
        "id": "view-in-github",
        "colab_type": "text"
      },
      "source": [
        "<a href=\"https://colab.research.google.com/github/Flowergift/Python_AI_Sample/blob/main/514_1.ipynb\" target=\"_parent\"><img src=\"https://colab.research.google.com/assets/colab-badge.svg\" alt=\"Open In Colab\"/></a>"
      ]
    },
    {
      "cell_type": "code",
      "execution_count": 1,
      "metadata": {
        "colab": {
          "base_uri": "https://localhost:8080/"
        },
        "id": "cInc-aIw48hE",
        "outputId": "76b98af9-376f-43d2-9ccb-7f2c166b2b6c"
      },
      "outputs": [
        {
          "output_type": "stream",
          "name": "stdout",
          "text": [
            "image=\n",
            " [[3 4 0 1]\n",
            " [3 0 0 1]\n",
            " [4 4 1 2]\n",
            " [4 2 4 3]]\n",
            "filter=\n",
            " [[4 2 4]\n",
            " [2 4 1]\n",
            " [1 0 1]]\n",
            "image_pad=\n",
            " [[0 0 0 0 0 0]\n",
            " [0 3 4 0 1 0]\n",
            " [0 3 0 0 1 0]\n",
            " [0 4 4 1 2 0]\n",
            " [0 4 2 4 3 0]\n",
            " [0 0 0 0 0 0]]\n",
            "convolution=\n",
            " [[16. 25. 10.  4.]\n",
            " [38. 31. 27.  7.]\n",
            " [28. 45. 23. 16.]\n",
            " [42. 48. 49. 28.]]\n"
          ]
        }
      ],
      "source": [
        "import numpy as np\n",
        "\n",
        "np.random.seed(1)\n",
        "\n",
        "image = np.random.randint(5, size=(4,4))\n",
        "print('image=\\n', image)\n",
        "\n",
        "filter = np.random.randint(5, size=(3,3))\n",
        "print('filter=\\n', filter)\n",
        "\n",
        "image_pad = np.pad(image,((1,1),(1,1)))\n",
        "print('image_pad=\\n', image_pad)\n",
        "\n",
        "convolution = np.zeros((4,4))\n",
        "\n",
        "for row in range(4):\n",
        "  for col in range(4):\n",
        "    windows = image_pad[row:row+3, col:col+3]\n",
        "    convolution[row, col] = np.sum(windows*filter)\n",
        "\n",
        "\n",
        "print('convolution=\\n', convolution)"
      ]
    }
  ]
}