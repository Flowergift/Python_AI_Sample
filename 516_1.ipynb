{
  "nbformat": 4,
  "nbformat_minor": 0,
  "metadata": {
    "colab": {
      "provenance": [],
      "authorship_tag": "ABX9TyPVBOZTYGGN2UzpkrLDQ+g6",
      "include_colab_link": true
    },
    "kernelspec": {
      "name": "python3",
      "display_name": "Python 3"
    },
    "language_info": {
      "name": "python"
    }
  },
  "cells": [
    {
      "cell_type": "markdown",
      "metadata": {
        "id": "view-in-github",
        "colab_type": "text"
      },
      "source": [
        "<a href=\"https://colab.research.google.com/github/Flowergift/Python_AI_Sample/blob/main/516_1.ipynb\" target=\"_parent\"><img src=\"https://colab.research.google.com/assets/colab-badge.svg\" alt=\"Open In Colab\"/></a>"
      ]
    },
    {
      "cell_type": "code",
      "execution_count": 4,
      "metadata": {
        "colab": {
          "base_uri": "https://localhost:8080/"
        },
        "id": "cInc-aIw48hE",
        "outputId": "f2b93769-e415-4cb0-bccf-da347e949daa"
      },
      "outputs": [
        {
          "output_type": "stream",
          "name": "stdout",
          "text": [
            "image=\n",
            " [[3 4 0 1]\n",
            " [3 0 0 1]\n",
            " [4 4 1 2]\n",
            " [4 2 4 3]]\n",
            "filter_0=\n",
            " [[4 4 4]\n",
            " [1 1 1]\n",
            " [0 1 0]]\n",
            "filter_1=\n",
            " [[2 2 1]\n",
            " [0 1 1]\n",
            " [4 0 3]]\n",
            "image_pad=\n",
            " [[0 0 0 0 0 0]\n",
            " [0 3 4 0 1 0]\n",
            " [0 3 0 0 1 0]\n",
            " [0 4 4 1 2 0]\n",
            " [0 4 2 4 3 0]\n",
            " [0 0 0 0 0 0]]\n",
            "convolution_0=\n",
            " [[10.  7.  5.  2.]\n",
            " [35. 35. 22.  7.]\n",
            " [24. 23. 15. 10.]\n",
            " [38. 46. 37. 19.]]\n",
            "convolution_1=\n",
            " [[ 7. 16.  4.  1.]\n",
            " [25. 33. 32.  7.]\n",
            " [20. 39. 21. 20.]\n",
            " [18. 23. 19.  9.]]\n",
            "max_pooled_0=\n",
            " [[35. 22.]\n",
            " [46. 37.]]\n",
            "max_pooled_1=\n",
            " [[33. 32.]\n",
            " [39. 21.]]\n"
          ]
        }
      ],
      "source": [
        "import numpy as np\n",
        "\n",
        "np.random.seed(1)\n",
        "\n",
        "image = np.random.randint(5, size=(4,4))\n",
        "print('image=\\n', image)\n",
        "\n",
        "filter = np.random.randint(5, size=(3,3,2))\n",
        "print('filter_0=\\n', filter[:,:,0])\n",
        "print('filter_1=\\n', filter[:,:,1])\n",
        "\n",
        "image_pad = np.pad(image,((1,1),(1,1)))\n",
        "print('image_pad=\\n', image_pad)\n",
        "\n",
        "convolution = np.zeros((4,4,2))\n",
        "\n",
        "for fn in range(2):\n",
        "  for row in range(4):\n",
        "    for col in range(4):\n",
        "       windows = image_pad[row:row+3, col:col+3]\n",
        "       convolution[row, col, fn] = np.sum(windows*filter[:,:,fn])\n",
        "\n",
        "print('convolution_0=\\n', convolution[:,:,0])\n",
        "print('convolution_1=\\n', convolution[:,:,1])\n",
        "\n",
        "max_pooled = np.zeros((2,2,2))\n",
        "\n",
        "for fn in range(2):\n",
        "  for row in range(0,2):\n",
        "    for col in range(0,2):\n",
        "       window = convolution[2*row:2*row+2, 2*col:2*col+2, fn]\n",
        "       max_pooled[row, col, fn] = np.max(window)\n",
        "\n",
        "print('max_pooled_0=\\n', max_pooled[:,:,0])\n",
        "print('max_pooled_1=\\n', max_pooled[:,:,1])"
      ]
    }
  ]
}