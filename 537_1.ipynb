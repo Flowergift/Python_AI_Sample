{
  "nbformat": 4,
  "nbformat_minor": 0,
  "metadata": {
    "colab": {
      "provenance": [],
      "authorship_tag": "ABX9TyMADVNjqUcSE04cGZzwvBWa",
      "include_colab_link": true
    },
    "kernelspec": {
      "name": "python3",
      "display_name": "Python 3"
    },
    "language_info": {
      "name": "python"
    }
  },
  "cells": [
    {
      "cell_type": "markdown",
      "metadata": {
        "id": "view-in-github",
        "colab_type": "text"
      },
      "source": [
        "<a href=\"https://colab.research.google.com/github/Flowergift/Python_AI_Sample/blob/main/537_1.ipynb\" target=\"_parent\"><img src=\"https://colab.research.google.com/assets/colab-badge.svg\" alt=\"Open In Colab\"/></a>"
      ]
    },
    {
      "cell_type": "code",
      "execution_count": 11,
      "metadata": {
        "colab": {
          "base_uri": "https://localhost:8080/"
        },
        "id": "RMVlUMow2qs4",
        "outputId": "dd13b749-1c08-4663-e219-6b923d97a3ec"
      },
      "outputs": [
        {
          "output_type": "stream",
          "name": "stdout",
          "text": [
            "X=\n",
            " [[3 4 0 1]\n",
            " [3 0 0 1]\n",
            " [4 4 1 2]\n",
            " [4 2 4 3]]\n",
            "W=\n",
            " [[4 2 4]\n",
            " [2 4 1]\n",
            " [1 0 1]]\n",
            "b= 0\n",
            "XP=\n",
            " [[0 0 0 0 0 0]\n",
            " [0 3 4 0 1 0]\n",
            " [0 3 0 0 1 0]\n",
            " [0 4 4 1 2 0]\n",
            " [0 4 2 4 3 0]\n",
            " [0 0 0 0 0 0]]\n",
            "Y=\n",
            " [[16. 25. 10.  4.]\n",
            " [38. 31. 27.  7.]\n",
            " [28. 45. 23. 16.]\n",
            " [42. 48. 49. 28.]]\n",
            "MP=\n",
            " [[38. 27.]\n",
            " [48. 49.]]\n",
            "MPb=\n",
            " [[ 1 -1]\n",
            " [-2  1]]\n",
            "Yb=\n",
            " [[ 0.  0.  0.  0.]\n",
            " [ 1.  0. -1.  0.]\n",
            " [ 0.  0.  0.  0.]\n",
            " [ 0. -2.  1.  0.]]\n",
            "Wb=\n",
            " [[-8. -4.  3.]\n",
            " [-6.  3. -6.]\n",
            " [-4.  3.  2.]]\n",
            "bb= -1.0\n",
            "XPb=\n",
            " [[ 0.  0.  0.  0.  0.  0.]\n",
            " [ 4.  2.  0. -2. -4.  0.]\n",
            " [ 2.  4. -1. -4. -1.  0.]\n",
            " [ 1. -8.  0. -6.  3.  0.]\n",
            " [ 0. -4. -6.  2.  1.  0.]\n",
            " [ 0. -2.  1. -2.  1.  0.]]\n",
            "Xb=\n",
            " [[ 2.  0. -2. -4.]\n",
            " [ 4. -1. -4. -1.]\n",
            " [-8.  0. -6.  3.]\n",
            " [-4. -6.  2.  1.]]\n"
          ]
        }
      ],
      "source": [
        "import numpy as np\n",
        "\n",
        "np.random.seed(1)\n",
        "\n",
        "X = np.random.randint(5, size=(4,4))\n",
        "print('X=\\n', X)\n",
        "\n",
        "W = np.random.randint(5, size=(3,3))\n",
        "print('W=\\n', W)\n",
        "\n",
        "b = 0\n",
        "print('b=', b)\n",
        "XP = np.pad(X,((1,1),(1,1)))\n",
        "print('XP=\\n', XP)\n",
        "\n",
        "Y = np.zeros((4,4))\n",
        "\n",
        "for row in range(4):\n",
        "  for col in range(4):\n",
        "    winXP = XP[row:row+3, col:col+3]\n",
        "    Y[row, col] = np.sum(winXP*W)+b\n",
        "\n",
        "print('Y=\\n', Y)\n",
        "MP = np.zeros((2,2))\n",
        "\n",
        "for row in range(0,2):\n",
        "  for col in range(0,2):\n",
        "    winY = Y[2*row:2*row+2, 2*col:2*col+2]\n",
        "    MP[row, col]=np.max(winY)\n",
        "\n",
        "\n",
        "print('MP=\\n', MP)\n",
        "\n",
        "MPb = np.random.randint(-8,5, size=MP.shape)\n",
        "print('MPb=\\n', MPb)\n",
        "Yb = np.zeros_like(Y)\n",
        "\n",
        "for row in range(0,2):\n",
        "  for col in range(0,2):\n",
        "    winY = Y[2*row:2*row+2, 2*col:2*col+2]\n",
        "    winYb = Yb[2*row:2*row+2, 2*col:2*col+2]\n",
        "    winYb[winY==np.max(winY)]=MPb[row,col]\n",
        "print('Yb=\\n',Yb)\n",
        "Wb = np.zeros_like(W)/1\n",
        "\n",
        "for row in range(4):\n",
        "  for col in range(4):\n",
        "    winXP= XP[row:row+3, col:col+3]\n",
        "    Wb+=winXP*Yb[row, col]\n",
        "\n",
        "print('Wb=\\n', Wb)\n",
        "\n",
        "bb = np.sum(Yb)\n",
        "print('bb=', bb)\n",
        "\n",
        "XPb = np.zeros_like(XP)/1\n",
        "\n",
        "for row in range(4):\n",
        "  for col in range(4):\n",
        "    winXPb= XPb[row:row+3, col:col+3]\n",
        "    winXPb+=Yb[row, col]*W\n",
        "\n",
        "print('XPb=\\n', XPb)\n",
        "Xb = XPb[1:-1,1:-1]\n",
        "print('Xb=\\n', Xb)\n"
      ]
    }
  ]
}