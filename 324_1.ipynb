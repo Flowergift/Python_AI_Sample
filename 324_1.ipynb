{
  "nbformat": 4,
  "nbformat_minor": 0,
  "metadata": {
    "colab": {
      "provenance": [],
      "authorship_tag": "ABX9TyPueqF1i9R4X/bwgbmPd2Q5",
      "include_colab_link": true
    },
    "kernelspec": {
      "name": "python3",
      "display_name": "Python 3"
    },
    "language_info": {
      "name": "python"
    }
  },
  "cells": [
    {
      "cell_type": "markdown",
      "metadata": {
        "id": "view-in-github",
        "colab_type": "text"
      },
      "source": [
        "<a href=\"https://colab.research.google.com/github/Flowergift/Python_AI_Sample/blob/main/324_1.ipynb\" target=\"_parent\"><img src=\"https://colab.research.google.com/assets/colab-badge.svg\" alt=\"Open In Colab\"/></a>"
      ]
    },
    {
      "cell_type": "code",
      "execution_count": 5,
      "metadata": {
        "colab": {
          "base_uri": "https://localhost:8080/"
        },
        "id": "_hJ-7GKKv5tV",
        "outputId": "2c7f9451-ca9a-48ed-bc63-a0a058515987"
      },
      "outputs": [
        {
          "output_type": "stream",
          "name": "stdout",
          "text": [
            ".\n",
            "Time taken (in seconds) = 43.671210289001465\n"
          ]
        }
      ],
      "source": [
        "\n",
        "\n",
        "import numpy as np\n",
        "import random\n",
        "import time\n",
        "\n",
        "np.set_printoptions(formatter={'float_kind':lambda x: \"{0:6.4f}\".format(x)})\n",
        "\n",
        "NUM_PATTERN = 60000\n",
        "NUM_IN = 784\n",
        "NUM_HID = 64\n",
        "NUM_OUT = 10\n",
        "\n",
        "I = np.random.randn(NUM_PATTERN, 1, NUM_IN)\n",
        "T = np.random.randn(NUM_PATTERN, 1, NUM_OUT)\n",
        "O = np.zeros((NUM_PATTERN, 1, NUM_OUT))\n",
        "WH = np.random.randn(NUM_IN, NUM_HID)/np.sqrt(NUM_IN/2) #He\n",
        "BH = np.zeros((1, NUM_HID))\n",
        "WO = np.random.randn(NUM_HID,NUM_OUT)/np.sqrt(NUM_HID) #Lecun\n",
        "BO = np.zeros((1, NUM_OUT))\n",
        "\n",
        "shuffled_pattern = [pc for pc in range(NUM_PATTERN)] #정수로!\n",
        "\n",
        "random.seed(int(time.time()))\n",
        "\n",
        "begin = time.time()\n",
        "\n",
        "for epoch in range(1, 2):\n",
        "  tmp_a = 0;\n",
        "  tmp_b = 0;\n",
        "  for pc in range(NUM_PATTERN):\n",
        "    tmp_a = random.randrange(0,NUM_PATTERN)\n",
        "    tmp_b = shuffled_pattern[pc]\n",
        "    shuffled_pattern[pc] = shuffled_pattern[tmp_a]\n",
        "    shuffled_pattern[tmp_a] = tmp_b\n",
        "\n",
        "  sumError = 0.\n",
        "\n",
        "  for rc in range(NUM_PATTERN):\n",
        "    pc = shuffled_pattern[rc]\n",
        "\n",
        "    H = I[pc] @ WH + BH\n",
        "    H = (H>0)*H # ReLU\n",
        "\n",
        "    O[pc] = H @ WO + BO\n",
        "    O[pc] = 1/(1+np.exp(-O[pc]))\n",
        "\n",
        "    E = np.sum((O[pc]-T[pc])**2/2) #mean squared error\n",
        "\n",
        "    sumError += E\n",
        "\n",
        "    Ob = O[pc] - T[pc]\n",
        "    Ob = Ob*O[pc]*(1-O[pc]) #sigmoid\n",
        "\n",
        "    Hb = Ob @ WO.T\n",
        "    Hb = Hb*(H>0)*1 #ReLU\n",
        "\n",
        "    WHb = I[pc].T @ Hb\n",
        "    BHb = 1 * Hb\n",
        "    WOb = H.T @ Ob\n",
        "    B0b = 1 * Ob\n",
        "\n",
        "    lr = 0.01\n",
        "    WH = WH - lr * WHb\n",
        "    BH = BH - lr * BHb\n",
        "    WO = WO - lr * WOb\n",
        "    BO = BO - lr * B0b\n",
        "\n",
        "  if rc%1000==999 :\n",
        "    print(\".\", end='', flush=True)\n",
        "\n",
        "end = time.time()\n",
        "\n",
        "time_taken = end - begin\n",
        "\n",
        "print(\"\\nTime taken (in seconds) = {}\".format(time_taken))"
      ]
    }
  ]
}