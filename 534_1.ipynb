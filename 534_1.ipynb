{
  "nbformat": 4,
  "nbformat_minor": 0,
  "metadata": {
    "colab": {
      "provenance": [],
      "authorship_tag": "ABX9TyPbUzyZ03KUp0o/O3xqpI5D",
      "include_colab_link": true
    },
    "kernelspec": {
      "name": "python3",
      "display_name": "Python 3"
    },
    "language_info": {
      "name": "python"
    }
  },
  "cells": [
    {
      "cell_type": "markdown",
      "metadata": {
        "id": "view-in-github",
        "colab_type": "text"
      },
      "source": [
        "<a href=\"https://colab.research.google.com/github/Flowergift/Python_AI_Sample/blob/main/534_1.ipynb\" target=\"_parent\"><img src=\"https://colab.research.google.com/assets/colab-badge.svg\" alt=\"Open In Colab\"/></a>"
      ]
    },
    {
      "cell_type": "code",
      "execution_count": 2,
      "metadata": {
        "colab": {
          "base_uri": "https://localhost:8080/"
        },
        "id": "RMVlUMow2qs4",
        "outputId": "0523e848-6e62-4b10-ab84-ae218208abb6"
      },
      "outputs": [
        {
          "output_type": "stream",
          "name": "stdout",
          "text": [
            "X=\n",
            " [[3 4 0]\n",
            " [1 3 0]\n",
            " [0 1 4]]\n",
            "W=\n",
            " [[4 1 2]\n",
            " [4 2 4]\n",
            " [3 4 2]]\n",
            "b= 0\n",
            "y= 38\n",
            "yb= -3\n",
            "Wb =\n",
            " [[ -9 -12   0]\n",
            " [ -3  -9   0]\n",
            " [  0  -3 -12]]\n",
            "bb= -3\n",
            "Xb=\n",
            " [[-12  -3  -6]\n",
            " [-12  -6 -12]\n",
            " [ -9 -12  -6]]\n"
          ]
        }
      ],
      "source": [
        "import numpy as np\n",
        "\n",
        "np.random.seed(1)\n",
        "\n",
        "X = np.random.randint(5, size=(3,3))\n",
        "print('X=\\n', X)\n",
        "\n",
        "W = np.random.randint(5, size=(3,3))\n",
        "print('W=\\n', W)\n",
        "\n",
        "b = 0\n",
        "print('b=', b)\n",
        "\n",
        "y = np.sum(X*W)+b\n",
        "print('y=', y)\n",
        "\n",
        "yb = np.random.randint(-5,5)\n",
        "print('yb=', yb)\n",
        "\n",
        "Wb = yb*X\n",
        "print('Wb =\\n',Wb)\n",
        "\n",
        "bb = yb\n",
        "print('bb=',bb)\n",
        "\n",
        "Xb = yb*W\n",
        "print('Xb=\\n', Xb)\n",
        "\n"
      ]
    }
  ]
}