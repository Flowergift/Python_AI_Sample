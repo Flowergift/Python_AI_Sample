{
  "nbformat": 4,
  "nbformat_minor": 0,
  "metadata": {
    "colab": {
      "provenance": [],
      "authorship_tag": "ABX9TyN7ODAUqELJbAgh3tUFkJrP",
      "include_colab_link": true
    },
    "kernelspec": {
      "name": "python3",
      "display_name": "Python 3"
    },
    "language_info": {
      "name": "python"
    }
  },
  "cells": [
    {
      "cell_type": "markdown",
      "metadata": {
        "id": "view-in-github",
        "colab_type": "text"
      },
      "source": [
        "<a href=\"https://colab.research.google.com/github/Flowergift/Python_AI_Sample/blob/main/618_1.ipynb\" target=\"_parent\"><img src=\"https://colab.research.google.com/assets/colab-badge.svg\" alt=\"Open In Colab\"/></a>"
      ]
    },
    {
      "cell_type": "code",
      "execution_count": 70,
      "metadata": {
        "colab": {
          "base_uri": "https://localhost:8080/"
        },
        "id": "GKhAcwV3dku5",
        "outputId": "af8fbef0-8c69-4e3c-8b31-93880595400c"
      },
      "outputs": [
        {
          "output_type": "stream",
          "name": "stdout",
          "text": [
            "len(gradients)= 4\n",
            "WOb =\n",
            " [10.668  8.904 11.865 11.995 11.122 10.453 12.798 14.022]\n",
            "BOb =\n",
            " [ 5.284  6.657  4.469]\n",
            "WCb_0 =\n",
            " [[ 6.675  6.225 11.794]\n",
            " [ 4.144  7.185  7.192]\n",
            " [ 8.724  6.844 13.624]]\n",
            "WCb_1 =\n",
            " [[10.182 10.582 18.242]\n",
            " [ 6.379 12.560 10.175]\n",
            " [12.113  9.803 19.396]]\n",
            "BCb=\n",
            " [24.454 37.625]\n"
          ]
        }
      ],
      "source": [
        "import tensorflow as tf\n",
        "import numpy as np\n",
        "\n",
        "np.set_printoptions(formatter={'float_kind':lambda x: \"{0:6.3f}\".format(x)})\n",
        "\n",
        "IMG_SIZE = 4\n",
        "HALF_SIZE = int(IMG_SIZE/2)\n",
        "\n",
        "I_DEPTH = 1\n",
        "C_DEPTH = 2\n",
        "K_SIZE = 3\n",
        "NUM_OUT = 3\n",
        "\n",
        "np.random.seed(1)\n",
        "\n",
        "I = np.random.rand(1,IMG_SIZE,IMG_SIZE,I_DEPTH)\n",
        "WC = np.random.rand(K_SIZE,K_SIZE,I_DEPTH,C_DEPTH)\n",
        "\"\"\"합성곱에서 사용할 필터를 가르키는 변수.\n",
        "   CNN에서 필터는 학습의 대상이 되는 가중치\"\"\"\n",
        "BC = np.random.rand(C_DEPTH,)\n",
        "\"\"\"편향을 가리키는 변수. 출력층의 깊이와 같음.\"\"\"\n",
        "WO = np.random.rand(HALF_SIZE*HALF_SIZE*C_DEPTH,NUM_OUT)\n",
        "\"\"\"완전 연결층에서 입력 층과 출력 층 사이에 사용할 가중치\"\"\"\n",
        "BO = np.random.rand(NUM_OUT,)\n",
        "\"\"\"완전 연결층에서 입력 층과 출력 층 사이에 사용할 편향\"\"\"\n",
        "T = np.zeros((1,NUM_OUT))\n",
        "\"\"\"목표값\"\"\"\n",
        "\n",
        "\n",
        "model = tf.keras.Sequential([\n",
        "\t  tf.keras.layers.InputLayer(input_shape=(IMG_SIZE, IMG_SIZE, I_DEPTH)),\n",
        "    tf.keras.layers.Conv2D(C_DEPTH, (K_SIZE, K_SIZE), padding='same'),\n",
        "    tf.keras.layers.MaxPooling2D((2, 2)),\n",
        "    tf.keras.layers.Flatten(),\n",
        "    tf.keras.layers.Dense(NUM_OUT),\n",
        "])\n",
        "model.layers[0].set_weights([WC, BC])\n",
        "model.layers[3].set_weights([WO, BO])\n",
        "optimizer=tf.keras.optimizers.SGD(learning_rate=0.01)\n",
        "loss=tf.keras.losses.MeanSquaredError()\n",
        "\n",
        "for epoch in range(1):\n",
        "\n",
        "  with tf.GradientTape() as tape:\n",
        "\n",
        "    O = model(I)\n",
        "\n",
        "    E = loss(T, O)\n",
        "\n",
        "  gradients = tape.gradient(E, model.trainable_variables)\n",
        "  print('len(gradients)=',len(gradients))\n",
        "  print('WOb =\\n', gradients[2].numpy()[:,0])\n",
        "  print('BOb =\\n', gradients[3].numpy())\n",
        "  print('WCb_0 =\\n', gradients[0].numpy()[:,:,0,0])\n",
        "  print('WCb_1 =\\n', gradients[0].numpy()[:,:,0,1])\n",
        "  print('BCb=\\n', gradients[1].numpy())\n",
        "\n",
        "\n",
        "\n",
        "\n"
      ]
    }
  ]
}