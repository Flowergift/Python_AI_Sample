{
  "nbformat": 4,
  "nbformat_minor": 0,
  "metadata": {
    "colab": {
      "provenance": [],
      "authorship_tag": "ABX9TyOlve8R3hkmt6U9CDZJK3jA",
      "include_colab_link": true
    },
    "kernelspec": {
      "name": "python3",
      "display_name": "Python 3"
    },
    "language_info": {
      "name": "python"
    }
  },
  "cells": [
    {
      "cell_type": "markdown",
      "metadata": {
        "id": "view-in-github",
        "colab_type": "text"
      },
      "source": [
        "<a href=\"https://colab.research.google.com/github/Flowergift/Python_AI_Sample/blob/main/411_1.ipynb\" target=\"_parent\"><img src=\"https://colab.research.google.com/assets/colab-badge.svg\" alt=\"Open In Colab\"/></a>"
      ]
    },
    {
      "cell_type": "code",
      "execution_count": 8,
      "metadata": {
        "colab": {
          "base_uri": "https://localhost:8080/"
        },
        "id": "_hJ-7GKKv5tV",
        "outputId": "22f47103-d786-4222-9de5-90d61fb87fe6"
      },
      "outputs": [
        {
          "output_type": "stream",
          "name": "stdout",
          "text": [
            "epoch = 0\n",
            "Y= [[19 30]]\n",
            "W=\n",
            " [[ 3.160  3.800]\n",
            " [ 4.240  4.200]]\n",
            "B= [[ 1.080  1.400]]\n",
            "epoch = 1\n",
            "Y= [[20.120 21.600]]\n",
            "W=\n",
            " [[ 3.298  2.768]\n",
            " [ 4.446  2.652]]\n",
            "B= [[ 1.149  0.884]]\n"
          ]
        }
      ],
      "source": [
        "\n",
        "import numpy as np\n",
        "\n",
        "np.set_printoptions(formatter={'float_kind':lambda x: \"{0:6.3f}\".format(x)})\n",
        "\n",
        "X = np.array([[2,3]])\n",
        "T = np.array([[27, -30]])\n",
        "\n",
        "W = np.array([[3,5],\n",
        "[4,6]])\n",
        "\n",
        "B = np.array([[1,2]])\n",
        "\n",
        "for epoch in range(2):\n",
        "  print('epoch = %d' %epoch)\n",
        "\n",
        "  Y = X @ W + B\n",
        "  print('Y=', Y)\n",
        "\n",
        "  E = np.sum((Y-T)**2)/Y.shape[1]\n",
        "  Yb = 2 * (Y-T)/Y.shape[1]\n",
        "  Wb = X.T @ Yb\n",
        "  Bb = 1 * Yb\n",
        "  lr = 0.01\n",
        "\n",
        "  W = W - lr * Wb\n",
        "  B = B - lr * Bb\n",
        "  print('W=\\n', W)\n",
        "  print('B=', B)"
      ]
    }
  ]
}