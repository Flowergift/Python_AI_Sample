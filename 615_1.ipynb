{
  "nbformat": 4,
  "nbformat_minor": 0,
  "metadata": {
    "colab": {
      "provenance": [],
      "authorship_tag": "ABX9TyPYdM6h0p3Ludlo7VfQqtTj",
      "include_colab_link": true
    },
    "kernelspec": {
      "name": "python3",
      "display_name": "Python 3"
    },
    "language_info": {
      "name": "python"
    }
  },
  "cells": [
    {
      "cell_type": "markdown",
      "metadata": {
        "id": "view-in-github",
        "colab_type": "text"
      },
      "source": [
        "<a href=\"https://colab.research.google.com/github/Flowergift/Python_AI_Sample/blob/main/615_1.ipynb\" target=\"_parent\"><img src=\"https://colab.research.google.com/assets/colab-badge.svg\" alt=\"Open In Colab\"/></a>"
      ]
    },
    {
      "cell_type": "code",
      "execution_count": 23,
      "metadata": {
        "colab": {
          "base_uri": "https://localhost:8080/"
        },
        "id": "GKhAcwV3dku5",
        "outputId": "c27d923a-08b1-477c-83a3-edca9388f1c3"
      },
      "outputs": [
        {
          "output_type": "stream",
          "name": "stdout",
          "text": [
            "0=\n",
            " [[ 2.019  1.685  2.245  2.270  2.105  1.978  2.422  2.654]]\n",
            "O=\n",
            " (1, 8)\n"
          ]
        }
      ],
      "source": [
        "import numpy as np\n",
        "import tensorflow as tf\n",
        "\n",
        "np.set_printoptions(formatter={'float_kind':lambda x: \"{0:6.3f}\".format(x)})\n",
        "\n",
        "IMG_SIZE = 4\n",
        "HALF_SIZE = int(IMG_SIZE/2)\n",
        "\n",
        "I_DEPTH = 1\n",
        "C_DEPTH = 2\n",
        "K_SIZE = 3\n",
        "P_SIZE = 2\n",
        "NUM_OUT = 3\n",
        "\n",
        "np.random.seed(1)\n",
        "\n",
        "I = np.random.rand(1,IMG_SIZE, IMG_SIZE, I_DEPTH)\n",
        "WC = np.random.rand(K_SIZE, K_SIZE, I_DEPTH, C_DEPTH)\n",
        "\"\"\"합성곱에서 사용할 필터를 가르키는 변수.\n",
        "   CNN에서 필터는 학습의 대상이 되는 가중치\"\"\"\n",
        "BC = np.random.rand(C_DEPTH,)\n",
        "\"\"\"편향을 가리키는 변수. 출력층의 깊이와 같음.\"\"\"\n",
        "WO = np.random.rand(HALF_SIZE*HALF_SIZE*C_DEPTH, NUM_OUT)\n",
        "\"\"\"완전 연결층에서 입력 층과 출력 층 사이에 사용할 가중치\"\"\"\n",
        "BO = np.random.rand(1, NUM_OUT)\n",
        "\"\"\"완전 연결층에서 입력 층과 출력 층 사이에 사용할 편향\"\"\"\n",
        "T = np.zeros((1,NUM_OUT))\n",
        "\"\"\"목표값\"\"\"\n",
        "\n",
        "\n",
        "model = tf.keras.Sequential([\n",
        "    tf.keras.layers.InputLayer(input_shape=(IMG_SIZE, IMG_SIZE, I_DEPTH)),\n",
        "    tf.keras.layers.Conv2D(C_DEPTH, (K_SIZE, K_SIZE), padding='same'),\n",
        "    tf.keras.layers.MaxPooling2D((2,2)),\n",
        "    tf.keras.layers.Flatten(),\n",
        "])\n",
        "\n",
        "model.layers[0].set_weights([WC, BC])\n",
        "\n",
        "optimizer=tf.keras.optimizers.SGD(learning_rate=0.01)\n",
        "loss=tf.losses.MeanSquaredError()\n",
        "\n",
        "for epoch in range(1):\n",
        "\n",
        "  with tf.GradientTape() as tape:\n",
        "\n",
        "    O = model(I)\n",
        "    print('0=\\n', O.numpy())\n",
        "    print('O=\\n',O.shape)\n",
        "\n",
        "\n",
        "\n",
        "\n"
      ]
    },
    {
      "cell_type": "markdown",
      "source": [
        "# 새 섹션"
      ],
      "metadata": {
        "id": "abbMz7GawGf8"
      }
    }
  ]
}